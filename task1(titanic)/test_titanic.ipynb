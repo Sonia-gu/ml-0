{
 "cells": [
  {
   "cell_type": "code",
   "execution_count": 2,
   "source": [
    "import numpy as np\n",
    "import pandas as pd \n",
    "import sklearn"
   ],
   "outputs": [],
   "metadata": {}
  },
  {
   "cell_type": "code",
   "execution_count": 3,
   "source": [
    "data = pd.read_csv('titanic.csv', index_col = 'PassengerId')"
   ],
   "outputs": [],
   "metadata": {}
  },
  {
   "cell_type": "markdown",
   "source": [],
   "metadata": {}
  },
  {
   "cell_type": "code",
   "execution_count": 4,
   "source": [
    "n_male = data['Sex'].value_counts()['male']\n",
    "n_female = data['Sex'].value_counts()['female']\n",
    "\n",
    "f1 = open(\"titanic_sol1.txt\", \"w+\")\n",
    "f1.write(\"%d %d\" % (n_male, n_female))\n",
    "f1.close()\n",
    "\n",
    "print(n_male, n_female)"
   ],
   "outputs": [
    {
     "output_type": "stream",
     "name": "stdout",
     "text": [
      "577 314\n"
     ]
    }
   ],
   "metadata": {}
  },
  {
   "cell_type": "code",
   "execution_count": 5,
   "source": [
    "N = data['Survived'].value_counts().sum()\n",
    "dead = data['Survived'].value_counts()[0]\n",
    "survived = data['Survived'].value_counts()[1]\n",
    "survived_percentage = \"{:.0f}\".format(survived/N*100)\n",
    "\n",
    "f2 = open(\"titanic_sol2.txt\", \"w+\")\n",
    "f2.write(survived_percentage)\n",
    "f2.close()\n",
    "\n",
    "print(survived_percentage)"
   ],
   "outputs": [
    {
     "output_type": "stream",
     "name": "stdout",
     "text": [
      "38\n"
     ]
    }
   ],
   "metadata": {}
  },
  {
   "cell_type": "code",
   "execution_count": 6,
   "source": [
    "n1 = data['Pclass'].value_counts()[1]\n",
    "n1_percentage = \"{:.0f}\".format(n1/N*100)\n",
    "\n",
    "f3 = open(\"titanic_sol3.txt\", \"w+\")\n",
    "f3.write(n1_percentage)\n",
    "f3.close()\n",
    "\n",
    "print(n1_percentage)"
   ],
   "outputs": [
    {
     "output_type": "stream",
     "name": "stdout",
     "text": [
      "24\n"
     ]
    }
   ],
   "metadata": {}
  },
  {
   "cell_type": "code",
   "execution_count": 7,
   "source": [
    "mean_age = \"{:.2f}\".format(data['Age'].mean())\n",
    "median_age = \"{:.2f}\".format(data['Age'].median())\n",
    "\n",
    "f4 = open(\"titanic_sol4.txt\", \"w+\")\n",
    "f4.write(\"%s %s\" % (mean_age, median_age))\n",
    "f4.close()\n",
    "\n",
    "print(mean_age, median_age)"
   ],
   "outputs": [
    {
     "output_type": "stream",
     "name": "stdout",
     "text": [
      "29.70 28.00\n"
     ]
    }
   ],
   "metadata": {}
  },
  {
   "cell_type": "code",
   "execution_count": 8,
   "source": [
    "x = data['SibSp']\n",
    "y = data['Parch']\n",
    "\n",
    "x_mean = x.mean()\n",
    "y_mean = y.mean()\n",
    "\n",
    "rPearson = ( np.sum((x - x_mean)*(y - y_mean)) ) / ( (np.sqrt(np.sum((x - x_mean)*(x - x_mean)))) * (np.sqrt(np.sum((y - y_mean)*(y - y_mean)))) )\n",
    "\n",
    "f5 = open(\"titanic_sol5.txt\", \"w+\")\n",
    "f5.write(\"{:.2f}\".format(rPearson))\n",
    "f5.close()\n",
    "\n",
    "print(rPearson)"
   ],
   "outputs": [
    {
     "output_type": "stream",
     "name": "stdout",
     "text": [
      "0.4148376986201561\n"
     ]
    }
   ],
   "metadata": {}
  },
  {
   "cell_type": "code",
   "execution_count": 9,
   "source": [
    "fem_idx = np.array(data.index[data['Sex']=='female'])\n",
    "\n",
    "data_fem_first_name = dict()\n",
    "rare_fem_full_name = dict()\n",
    "\n",
    "for fi in fem_idx:\n",
    "    full_name = data[\"Name\"][fi].split()\n",
    "    flag = 0\n",
    "    if ('Miss.' in full_name): \n",
    "        k = full_name.index('Miss.')\n",
    "        data_fem_first_name[fi] = full_name[k+1]\n",
    "        flag = 1\n",
    "    elif ('Mrs.' in full_name): \n",
    "        for w in full_name:\n",
    "            if (w[0]=='('): \n",
    "                if (w[len(w)-1]==')'):\n",
    "                    data_fem_first_name[fi] = w[1:len(w)-1]\n",
    "                    flag = 1\n",
    "                else:\n",
    "                    data_fem_first_name[fi] = w[1:]\n",
    "                    flag = 1\n",
    "\n",
    "        if (flag == 0):\n",
    "            k = full_name.index('Mrs.')\n",
    "            data_fem_first_name[fi] = full_name[k+1]\n",
    "            flag = 1\n",
    "    elif ('Mlle.' in full_name):\n",
    "        k = full_name.index('Mlle.')\n",
    "        data_fem_first_name[fi] = full_name[k+1]\n",
    "        flag = 1\n",
    "    elif ('Mme.' in full_name):\n",
    "        k = full_name.index('Mme.')\n",
    "        data_fem_first_name[fi] = full_name[k+1]\n",
    "        flag = 1     \n",
    "    else: rare_fem_full_name[fi] = data[\"Name\"][fi]\n",
    "\n",
    "\n",
    "DF_data_fem = pd.DataFrame(data = data_fem_first_name.values(), index = data_fem_first_name.keys(), columns=['name'])\n",
    "\n",
    "rating = DF_data_fem['name'].value_counts()\n",
    "print(rating)\n",
    "\n",
    "k = len(rare_fem_full_name.values())\n",
    "\n",
    "\n",
    "s=1\n",
    "fine = False\n",
    "\n",
    "while (k<rating[0] - rating[s]):\n",
    "  top2 = rating.index[s]\n",
    "  for name in rare_fem_full_name.values():\n",
    "    if (name.find(top2)!=-1): fine = False\n",
    "    else: fine = True\n",
    "\n",
    "\n",
    "top1 = rating.index[0]\n",
    "\n",
    "\n",
    "if (fine == True):\n",
    "    f6 = open(\"titanic_sol6.txt\", \"w+\")\n",
    "    f6.write(top1)\n",
    "    f6.close()\n",
    "else: print('not finished')\n",
    "\n",
    "print(top1)"
   ],
   "outputs": [
    {
     "output_type": "stream",
     "name": "stdout",
     "text": [
      "Anna         15\n",
      "Mary         14\n",
      "Elizabeth    11\n",
      "Margaret     10\n",
      "Alice         6\n",
      "             ..\n",
      "Lulu          1\n",
      "Eugenie       1\n",
      "Irene         1\n",
      "Lilian        1\n",
      "Aloisia       1\n",
      "Name: name, Length: 176, dtype: int64\n",
      "not finished\n",
      "Anna\n"
     ]
    }
   ],
   "metadata": {}
  },
  {
   "cell_type": "code",
   "execution_count": 10,
   "source": [
    "k = len(rare_fem_full_name.values())\n",
    "print(k)\n",
    "rare_fem_full_name"
   ],
   "outputs": [
    {
     "output_type": "stream",
     "name": "stdout",
     "text": [
      "4\n"
     ]
    },
    {
     "output_type": "execute_result",
     "data": {
      "text/plain": [
       "{444: 'Reynaldo, Ms. Encarnacion',\n",
       " 557: 'Duff Gordon, Lady. (Lucille Christiana Sutherland) (\"Mrs Morgan\")',\n",
       " 760: 'Rothes, the Countess. of (Lucy Noel Martha Dyer-Edwards)',\n",
       " 797: 'Leader, Dr. Alice (Farnham)'}"
      ]
     },
     "metadata": {},
     "execution_count": 10
    }
   ],
   "metadata": {}
  },
  {
   "cell_type": "code",
   "execution_count": 18,
   "source": [
    "# 1. Загрузите выборку из файла titanic.csv с помощью пакета Pandas.\n",
    "# 2. Оставьте в выборке четыре признака: класс пассажира (Pclass), цену билета (Fare), возраст пассажира (Age) и его пол (Sex).\n",
    "\n",
    "data2 = pd.read_csv('titanic.csv', index_col = 'PassengerId', usecols=['PassengerId', 'Pclass', 'Fare', 'Age', 'Sex'])\n",
    "\n",
    "# 3. Обратите внимание, что признак Sex имеет строковые значения.\n",
    "\n",
    "from sklearn import preprocessing\n",
    "\n",
    "enc = preprocessing.OrdinalEncoder()\n",
    "\n",
    "# 4. Выделите целевую переменную — она записана в столбце Survived.\n",
    "\n",
    "target = pd.read_csv('titanic.csv', index_col= 'PassengerId', usecols=['PassengerId', 'Survived'])\n",
    "\n",
    "# 5. В данных есть пропущенные значения — например, для некоторых пассажиров неизвестен их возраст. \n",
    "# Такие записи при чтении их в pandas принимают значение nan. \n",
    "# Найдите все объекты, у которых есть пропущенные признаки, и удалите их из выборки.\n",
    "\n",
    "nan_idx = np.array(data2.index[np.isnan(data2['Age'])])\n",
    "tar = target.drop(nan_idx, axis = 0)\n",
    "dat = enc.fit_transform(data2.drop(nan_idx, axis = 0), tar)\n",
    "\n",
    "# 6. Обучите решающее дерево с параметром random_state=241 и остальными параметрами по умолчанию.\n",
    "\n",
    "from sklearn.tree import DecisionTreeClassifier \n",
    "\n",
    "clf = DecisionTreeClassifier(random_state=241) \n",
    "clf.fit(dat, tar)\n",
    "\n",
    "# 7. Вычислите важности признаков и найдите два признака с наибольшей важностью. \n",
    "# Их названия будут ответами для данной задачи \n",
    "# (в качестве ответа укажите названия признаков через запятую без пробелов).\n",
    "\n",
    "importances = clf.feature_importances_\n",
    "print(importances)\n",
    "\n",
    "f7 = open(\"titanic_sol7.txt\", \"w+\")\n",
    "f7.write(\"Age,Sex\")\n",
    "f7.close()"
   ],
   "outputs": [
    {
     "output_type": "stream",
     "name": "stdout",
     "text": [
      "[0.14000522 0.30051221 0.2560461  0.30343647]\n"
     ]
    }
   ],
   "metadata": {}
  },
  {
   "cell_type": "code",
   "execution_count": 8,
   "source": [
    "book = []\n",
    "for i in range(4): \n",
    "\tbook.append(input().replace('-', '').replace('+', '').replace('(', '').replace(')', ''))\n",
    "\tif(len(book[i]))<10: book[i] = '7495'+book[i]\n",
    "\tbook[i]=book[i][1:]\n",
    "\tif i>0:\n",
    "\t\tif book[0]==book[i]: print('YES')\n",
    "\t\telse: print('NO')\n",
    "\t\t"
   ],
   "outputs": [
    {
     "output_type": "stream",
     "name": "stdout",
     "text": [
      "YES\n",
      "YES\n",
      "NO\n"
     ]
    }
   ],
   "metadata": {}
  },
  {
   "cell_type": "code",
   "execution_count": 7,
   "source": [
    "'123'+'345'"
   ],
   "outputs": [
    {
     "output_type": "execute_result",
     "data": {
      "text/plain": [
       "'123345'"
      ]
     },
     "metadata": {},
     "execution_count": 7
    }
   ],
   "metadata": {}
  },
  {
   "cell_type": "code",
   "execution_count": 21,
   "source": [
    "a=int(input())\n",
    "b=int(input())\n",
    "c=int(input())\n",
    "NS = \"NO SOLUTION\"\n",
    "MS = \"MANY SOLUTIONS\"\n",
    "if (c<0): \n",
    "\tprint(NS)\n",
    "elif (a==0):\n",
    "    if(b!=c**2): \n",
    "        print(NS)\n",
    "    else: print(MS)\n",
    "else:\n",
    "    ans = (c**2-b)//a\n",
    "    if ans==(c**2-b)/a: print(ans)\n",
    "    else: print(NS)\n",
    "\n",
    "\n",
    "\n"
   ],
   "outputs": [
    {
     "output_type": "stream",
     "name": "stdout",
     "text": [
      "7\n"
     ]
    }
   ],
   "metadata": {}
  },
  {
   "cell_type": "code",
   "execution_count": 18,
   "source": [
    "6/2 == 6//2"
   ],
   "outputs": [
    {
     "output_type": "execute_result",
     "data": {
      "text/plain": [
       "True"
      ]
     },
     "metadata": {},
     "execution_count": 18
    }
   ],
   "metadata": {}
  },
  {
   "cell_type": "code",
   "execution_count": 46,
   "source": [
    "d = input().split()\n",
    "for i in range(len(dat)):\n",
    "    d[i]=float(d[i])\n",
    "k1, m, k2, p2, n2 = d[0], d[1], d[2], d[3], d[4]\n",
    "K1 = m*(p2-1)\n",
    "K2 = n2-1\n",
    "if(K1>0): \n",
    "    ss = k2/K\n",
    "    p1 = k1//(round(s-0.01)*m)+1\n",
    "    n1 = k1%(round(s-0.01)*m)//s+1\n",
    "    print(int(p1), int(n1))\n",
    "else: \n",
    "    p1 = 0\n",
    "    n1 = 1\n"
   ],
   "outputs": [
    {
     "output_type": "error",
     "ename": "ZeroDivisionError",
     "evalue": "float division by zero",
     "traceback": [
      "\u001b[0;31m---------------------------------------------------------------------------\u001b[0m",
      "\u001b[0;31mZeroDivisionError\u001b[0m                         Traceback (most recent call last)",
      "\u001b[0;32m<ipython-input-46-7264ecbf2d33>\u001b[0m in \u001b[0;36m<module>\u001b[0;34m\u001b[0m\n\u001b[1;32m      5\u001b[0m \u001b[0mK\u001b[0m \u001b[0;34m=\u001b[0m \u001b[0mm\u001b[0m\u001b[0;34m*\u001b[0m\u001b[0;34m(\u001b[0m\u001b[0mp2\u001b[0m\u001b[0;34m-\u001b[0m\u001b[0;36m1\u001b[0m\u001b[0;34m)\u001b[0m\u001b[0;34m+\u001b[0m\u001b[0mn2\u001b[0m\u001b[0;34m-\u001b[0m\u001b[0;36m1\u001b[0m\u001b[0;34m\u001b[0m\u001b[0;34m\u001b[0m\u001b[0m\n\u001b[1;32m      6\u001b[0m \u001b[0;32mif\u001b[0m\u001b[0;34m(\u001b[0m\u001b[0mK\u001b[0m\u001b[0;34m>=\u001b[0m\u001b[0;36m0\u001b[0m\u001b[0;34m)\u001b[0m\u001b[0;34m:\u001b[0m\u001b[0;34m\u001b[0m\u001b[0;34m\u001b[0m\u001b[0m\n\u001b[0;32m----> 7\u001b[0;31m     \u001b[0mss\u001b[0m \u001b[0;34m=\u001b[0m \u001b[0mk2\u001b[0m\u001b[0;34m/\u001b[0m\u001b[0mK\u001b[0m\u001b[0;34m\u001b[0m\u001b[0;34m\u001b[0m\u001b[0m\n\u001b[0m\u001b[1;32m      8\u001b[0m     \u001b[0mp1\u001b[0m \u001b[0;34m=\u001b[0m \u001b[0mk1\u001b[0m\u001b[0;34m//\u001b[0m\u001b[0;34m(\u001b[0m\u001b[0mround\u001b[0m\u001b[0;34m(\u001b[0m\u001b[0ms\u001b[0m\u001b[0;34m-\u001b[0m\u001b[0;36m0.01\u001b[0m\u001b[0;34m)\u001b[0m\u001b[0;34m*\u001b[0m\u001b[0mm\u001b[0m\u001b[0;34m)\u001b[0m\u001b[0;34m+\u001b[0m\u001b[0;36m1\u001b[0m\u001b[0;34m\u001b[0m\u001b[0;34m\u001b[0m\u001b[0m\n\u001b[1;32m      9\u001b[0m     \u001b[0mn1\u001b[0m \u001b[0;34m=\u001b[0m \u001b[0mk1\u001b[0m\u001b[0;34m%\u001b[0m\u001b[0;34m(\u001b[0m\u001b[0mround\u001b[0m\u001b[0;34m(\u001b[0m\u001b[0ms\u001b[0m\u001b[0;34m-\u001b[0m\u001b[0;36m0.01\u001b[0m\u001b[0;34m)\u001b[0m\u001b[0;34m*\u001b[0m\u001b[0mm\u001b[0m\u001b[0;34m)\u001b[0m\u001b[0;34m//\u001b[0m\u001b[0ms\u001b[0m\u001b[0;34m+\u001b[0m\u001b[0;36m1\u001b[0m\u001b[0;34m\u001b[0m\u001b[0;34m\u001b[0m\u001b[0m\n",
      "\u001b[0;31mZeroDivisionError\u001b[0m: float division by zero"
     ]
    }
   ],
   "metadata": {}
  },
  {
   "cell_type": "code",
   "execution_count": 45,
   "source": [
    "round(6.50)"
   ],
   "outputs": [
    {
     "output_type": "execute_result",
     "data": {
      "text/plain": [
       "6"
      ]
     },
     "metadata": {},
     "execution_count": 45
    }
   ],
   "metadata": {}
  },
  {
   "cell_type": "code",
   "execution_count": null,
   "source": [],
   "outputs": [],
   "metadata": {}
  }
 ],
 "metadata": {
  "orig_nbformat": 4,
  "language_info": {
   "name": "python",
   "version": "3.8.8",
   "mimetype": "text/x-python",
   "codemirror_mode": {
    "name": "ipython",
    "version": 3
   },
   "pygments_lexer": "ipython3",
   "nbconvert_exporter": "python",
   "file_extension": ".py"
  },
  "kernelspec": {
   "name": "python3",
   "display_name": "Python 3.8.8 64-bit ('base': conda)"
  },
  "interpreter": {
   "hash": "d040b272fbf032b55586873b2ca8d3a5c5e5550394b053ef8ce70fe1327b555a"
  }
 },
 "nbformat": 4,
 "nbformat_minor": 2
}