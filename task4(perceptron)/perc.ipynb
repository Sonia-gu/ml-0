{
 "cells": [
  {
   "cell_type": "code",
   "execution_count": 24,
   "source": [
    "import pandas as pd\n",
    "import sklearn as skl\n",
    "import matplotlib.pyplot as plt\n",
    "import numpy as np\n",
    "from sklearn.linear_model import Perceptron\n",
    "from sklearn.preprocessing import StandardScaler"
   ],
   "outputs": [],
   "metadata": {}
  },
  {
   "cell_type": "code",
   "execution_count": 7,
   "source": [
    "X = np.array([[1, 2], [3, 4], [5, 6]])\n",
    "y = np.array([0, 1, 0])\n",
    "\n",
    "clf = Perceptron()\n",
    "clf.fit(X, y)\n",
    "\n",
    "predictions = clf.predict(X); predictions"
   ],
   "outputs": [
    {
     "output_type": "execute_result",
     "data": {
      "text/plain": [
       "array([0, 0, 0])"
      ]
     },
     "metadata": {},
     "execution_count": 7
    }
   ],
   "metadata": {}
  },
  {
   "cell_type": "code",
   "execution_count": 33,
   "source": [
    "# 1. Загрузите обучающую и тестовую выборки из файлов perceptron-train.csv и perceptron-test.csv. \n",
    "# Целевая переменная записана в первом столбце, признаки — во втором и третьем.\n",
    "\n",
    "names = ['y', 'x1', 'x2']\n",
    "\n",
    "data_train = pd.read_csv('perceptron-train.csv', names = names )\n",
    "data_test = pd.read_csv('perceptron-test.csv', names = names)\n",
    "\n",
    "y_train = data_train['y']\n",
    "x_train = data_train[['x1', 'x2']]\n",
    "y_test = data_test['y']\n",
    "x_test = data_test[['x1', 'x2']]\n",
    "\n",
    "# 2. Обучите персептрон со стандартными параметрами и random_state=241.\n",
    "\n",
    "prc = Perceptron(random_state=241)\n",
    "prc.fit(x_train, y_train)\n",
    "\n",
    "# 3. Подсчитайте качество (долю правильно классифицированных объектов, accuracy) полученного классификатора на тестовой выборке.\n",
    "\n",
    "from sklearn.metrics import accuracy_score\n",
    "\n",
    "acc1 = accuracy_score(y_test, prc.predict(x_test))\n",
    "\n",
    "# 4. Нормализуйте обучающую и тестовую выборку с помощью класса StandardScaler.\n",
    "\n",
    "scaler = StandardScaler()\n",
    "x_train_scaled = scaler.fit_transform(x_train)\n",
    "x_test_scaled = scaler.fit_transform(x_test)\n",
    "\n",
    "# 5. Обучите персептрон на новых выборках. Найдите долю правильных ответов на тестовой выборке.\n",
    "\n",
    "prc.fit(x_train_scaled, y_train)\n",
    "acc2 = accuracy_score(y_test, prc.predict(x_test_scaled))\n",
    "\n",
    "# 6. Найдите разность между качеством на тестовой выборке после нормализации и качеством до нее. \n",
    "# Это число и будет ответом на задание.\n",
    "\n",
    "print(acc2 - acc1)"
   ],
   "outputs": [
    {
     "output_type": "stream",
     "name": "stdout",
     "text": [
      "0.07999999999999996\n"
     ]
    }
   ],
   "metadata": {}
  },
  {
   "cell_type": "code",
   "execution_count": null,
   "source": [
    "\n"
   ],
   "outputs": [],
   "metadata": {}
  }
 ],
 "metadata": {
  "orig_nbformat": 4,
  "language_info": {
   "name": "python",
   "version": "3.8.8",
   "mimetype": "text/x-python",
   "codemirror_mode": {
    "name": "ipython",
    "version": 3
   },
   "pygments_lexer": "ipython3",
   "nbconvert_exporter": "python",
   "file_extension": ".py"
  },
  "kernelspec": {
   "name": "python3",
   "display_name": "Python 3.8.8 64-bit ('base': conda)"
  },
  "interpreter": {
   "hash": "d040b272fbf032b55586873b2ca8d3a5c5e5550394b053ef8ce70fe1327b555a"
  }
 },
 "nbformat": 4,
 "nbformat_minor": 2
}