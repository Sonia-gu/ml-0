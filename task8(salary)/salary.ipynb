{
 "cells": [
  {
   "cell_type": "code",
   "execution_count": 159,
   "source": [
    "import pandas as pd\n",
    "import sklearn as skl\n",
    "import matplotlib.pyplot as plt\n",
    "import numpy as np\n",
    "import scipy\n",
    "from numpy import linalg as LA"
   ],
   "outputs": [],
   "metadata": {}
  },
  {
   "cell_type": "code",
   "execution_count": 251,
   "source": [
    "# 1. Загрузите данные об описаниях вакансий и соответствующих годовых зарплатах из файла salary-train.csv.\n",
    "\n",
    "data_train = pd.read_csv('salary-train.csv')\n",
    "data_test =  pd.read_csv('salary-test-mini.csv')"
   ],
   "outputs": [],
   "metadata": {}
  },
  {
   "cell_type": "code",
   "execution_count": 252,
   "source": [
    "# 2. Проведите предобработку:\n",
    "#   • Приведите тексты к нижнему регистру.\n",
    "\n",
    "data_train.loc[:, 'FullDescription'] = data_train['FullDescription'].str.lower()\n",
    "data_test.loc[:, 'FullDescription'] = data_test['FullDescription'].str.lower()\n",
    "\n",
    "#   • Замените все, кроме букв и цифр, на пробелы — это облегчит дальнейшее разделение текста на слова. \n",
    "#   Для такой замены в строке text подходит следующий вызов:\n",
    "#   re.sub(’[^a−zA−Z0−9]’, ’␣’, text.lower())\n",
    "\n",
    "data_train.loc[:, 'FullDescription'] = data_train['FullDescription'].str.replace('\\W', ' ')\n",
    "data_test.loc[:, 'FullDescription'] = data_test['FullDescription'].str.replace('\\W', ' ')"
   ],
   "outputs": [
    {
     "output_type": "stream",
     "name": "stderr",
     "text": [
      "<ipython-input-252-b6886f0c739b>:11: FutureWarning: The default value of regex will change from True to False in a future version.\n",
      "  data_train.loc[:, 'FullDescription'] = data_train['FullDescription'].str.replace('\\W', ' ')\n",
      "<ipython-input-252-b6886f0c739b>:12: FutureWarning: The default value of regex will change from True to False in a future version.\n",
      "  data_test.loc[:, 'FullDescription'] = data_test['FullDescription'].str.replace('\\W', ' ')\n"
     ]
    }
   ],
   "metadata": {}
  },
  {
   "cell_type": "code",
   "execution_count": 257,
   "source": [
    "#   • Примените TfidfVectorizer для преобразования текстов в векторы признаков. \n",
    "#   Оставьте только те слова, которые встречаются хотя бы в 5 объектах (параметр min_df у TfidfVectorizer).\n",
    "\n",
    "from sklearn.feature_extraction.text import TfidfVectorizer\n",
    "\n",
    "vectorizer = TfidfVectorizer(min_df = 5)\n",
    "X_text = vectorizer.fit_transform(data_train.FullDescription)\n",
    "X_test_text = vectorizer.transform(data_test.FullDescription)"
   ],
   "outputs": [],
   "metadata": {}
  },
  {
   "cell_type": "code",
   "execution_count": 258,
   "source": [
    "#   • Замените пропуски в столбцах LocationNormalized и ContractTime на специальную строку ’nan’. \n",
    "#   Код для этого был приведен выше.\n",
    "from sklearn.feature_extraction import DictVectorizer\n",
    "\n",
    "#   • Примените DictVectorizer для получения one-hot-кодирования признаков LocationNormalized и ContractTime.\n",
    "\n",
    "v = DictVectorizer()\n",
    "\n",
    "data_train['LocationNormalized'].fillna('nan', inplace=True) \n",
    "data_train['ContractTime'].fillna('nan', inplace=True)\n",
    "\n",
    "X_train_categ = v.fit_transform(data_train[['LocationNormalized', 'ContractTime']].to_dict ('records'))\n",
    "X_test_categ = v.transform(data_test[['LocationNormalized', 'ContractTime']].to_dict ('records'))\n",
    "\n",
    "\n",
    "#   • Объедините все полученные признаки в одну матрицу \"объекты - признаки\". \n",
    "#   Обратите внимание, что матрицы для текстов и категориальных признаков являются разреженными. \n",
    "#   Для объединения их столбцов нужно воспользоваться функцией scipy.sparse.hstack.\n",
    "\n",
    "from scipy.sparse import hstack\n",
    "X = hstack([X_text, X_train_categ])\n",
    "X_test = hstack([X_test_text, X_test_categ])\n"
   ],
   "outputs": [],
   "metadata": {}
  },
  {
   "cell_type": "code",
   "execution_count": 259,
   "source": [
    "# 3. Обучите гребневую регрессию с параметром alpha=1. \n",
    "# Целевая переменная записана в столбце SalaryNormalized.\n",
    "from sklearn.linear_model import Ridge\n",
    "\n",
    "y = data_train['SalaryNormalized']\n",
    "clf = Ridge(alpha = 1)\n",
    "clf.fit(X, y)\n",
    "# 4. Постройте прогнозы для двух примеров из файла salary-test-mini.csv. \n",
    "# Значения полученных прогнозов являются ответом на задание. Укажите их через пробел.\n",
    "\n",
    "clf.predict(X_test)"
   ],
   "outputs": [
    {
     "output_type": "execute_result",
     "data": {
      "text/plain": [
       "array([56581.48527652, 37156.00502328])"
      ]
     },
     "metadata": {},
     "execution_count": 259
    }
   ],
   "metadata": {}
  },
  {
   "cell_type": "code",
   "execution_count": 260,
   "source": [
    "data_test"
   ],
   "outputs": [
    {
     "output_type": "execute_result",
     "data": {
      "text/plain": [
       "                                     FullDescription LocationNormalized  \\\n",
       "0  we currently have a vacancy for an hr project ...      Milton Keynes   \n",
       "1  a web developer opportunity has arisen with an...         Manchester   \n",
       "\n",
       "  ContractTime  SalaryNormalized  \n",
       "0     contract               NaN  \n",
       "1    permanent               NaN  "
      ],
      "text/html": [
       "<div>\n",
       "<style scoped>\n",
       "    .dataframe tbody tr th:only-of-type {\n",
       "        vertical-align: middle;\n",
       "    }\n",
       "\n",
       "    .dataframe tbody tr th {\n",
       "        vertical-align: top;\n",
       "    }\n",
       "\n",
       "    .dataframe thead th {\n",
       "        text-align: right;\n",
       "    }\n",
       "</style>\n",
       "<table border=\"1\" class=\"dataframe\">\n",
       "  <thead>\n",
       "    <tr style=\"text-align: right;\">\n",
       "      <th></th>\n",
       "      <th>FullDescription</th>\n",
       "      <th>LocationNormalized</th>\n",
       "      <th>ContractTime</th>\n",
       "      <th>SalaryNormalized</th>\n",
       "    </tr>\n",
       "  </thead>\n",
       "  <tbody>\n",
       "    <tr>\n",
       "      <th>0</th>\n",
       "      <td>we currently have a vacancy for an hr project ...</td>\n",
       "      <td>Milton Keynes</td>\n",
       "      <td>contract</td>\n",
       "      <td>NaN</td>\n",
       "    </tr>\n",
       "    <tr>\n",
       "      <th>1</th>\n",
       "      <td>a web developer opportunity has arisen with an...</td>\n",
       "      <td>Manchester</td>\n",
       "      <td>permanent</td>\n",
       "      <td>NaN</td>\n",
       "    </tr>\n",
       "  </tbody>\n",
       "</table>\n",
       "</div>"
      ]
     },
     "metadata": {},
     "execution_count": 260
    }
   ],
   "metadata": {}
  },
  {
   "cell_type": "code",
   "execution_count": null,
   "source": [],
   "outputs": [],
   "metadata": {}
  }
 ],
 "metadata": {
  "orig_nbformat": 4,
  "language_info": {
   "name": "python",
   "version": "3.8.8",
   "mimetype": "text/x-python",
   "codemirror_mode": {
    "name": "ipython",
    "version": 3
   },
   "pygments_lexer": "ipython3",
   "nbconvert_exporter": "python",
   "file_extension": ".py"
  },
  "kernelspec": {
   "name": "python3",
   "display_name": "Python 3.8.8 64-bit ('base': conda)"
  },
  "interpreter": {
   "hash": "d040b272fbf032b55586873b2ca8d3a5c5e5550394b053ef8ce70fe1327b555a"
  }
 },
 "nbformat": 4,
 "nbformat_minor": 2
}