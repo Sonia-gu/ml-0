{
 "cells": [
  {
   "cell_type": "code",
   "execution_count": 16,
   "source": [
    "import pandas as pd\n",
    "import sklearn as skl\n",
    "import matplotlib.pyplot as plt\n",
    "import numpy as np\n",
    "from numpy import linalg as LA"
   ],
   "outputs": [],
   "metadata": {}
  },
  {
   "cell_type": "code",
   "execution_count": 90,
   "source": [
    "# 1. Загрузите данные из файла data-logistic.csv. \n",
    "# Это двумерная выборка, целевая переменная на которой принимает значения -1 или 1.\n",
    "\n",
    "names = ['y','x1', 'x2']\n",
    "data = pd.read_csv('data-logistic.csv', names = names)\n",
    "\n",
    "x = data[['x1', 'x2']]\n",
    "y = np.array(data.y)\n",
    "\n",
    "# 2. Убедитесь, что выше выписаны правильные формулы для градиентного спуска. \n",
    "# Обратите внимание, что мы используем полноценный градиентный спуск, а не его стохастический вариант!\n",
    "\n",
    "# 3. Реализуйте градиентный спуск для обычной и L2-регуляризованной (с коэффициентом регуляризации 10) логистической регрессии. \n",
    "# Используйте длину шага k=0.1. \n",
    "# В качестве начального приближения используйте вектор (0, 0).\n",
    "\n",
    "# 4. Запустите градиентный спуск и доведите до сходимости \n",
    "# (евклидово расстояние между векторами весов на соседних итерациях должно быть не больше 1e-5). \n",
    "# Рекомендуется ограничить сверху число итераций десятью тысячами.\n",
    "\n",
    "N_max = 1e5\n",
    "epsilon = 1e-5\n",
    "l = data.shape[0]\n",
    "c = 10\n",
    "k = 0.1\n",
    "\n",
    "def GD(x, y, w0, df1, df2, N, k):\n",
    "    global N_max, epsilon, l, c\n",
    "    w = np.array([w0[0] - k*df1(x, y, w0, k), w0[1]- k*df2(x, y, w0, k)])\n",
    "    N+=1\n",
    "    if ((LA.norm(w - w0)<=epsilon)or(N==N_max)): \n",
    "        print(w, N)\n",
    "        return w\n",
    "    else: GD(x, y, w, df1, df2, N, k)\n",
    "    \n",
    "\n",
    "w0 = np.zeros(2)\n",
    "\n",
    "def df1(x, y, w, k): \n",
    "    global l, c\n",
    "    return -(k/l)*np.sum(y*x['x1']*(1 - 1/(1 + np.exp(-y*(w[0]*x['x1'] + w[1]*x['x2']))))) + c*w[0]\n",
    "\n",
    "def df2(x, y, w, k): \n",
    "    global l, c\n",
    "    return -(k/l)*np.sum(y*x['x2']*(1 - 1/(1 + np.exp(-y*(w[0]*x['x1'] + w[1]*x['x2']))))) + c*w[1]\n",
    "\n",
    "def dF1(x, y, w, k): \n",
    "    global l, c\n",
    "    return -(k/l)*np.sum(y*x['x1']*(1 - 1/(1 + np.exp(-y*(w[0]*x['x1'] + w[1]*x['x2']))))) \n",
    "\n",
    "def dF2(x, y, w, k): \n",
    "    global l, c\n",
    "    return -(k/l)*np.sum(y*x['x2']*(1 - 1/(1 + np.exp(-y*(w[0]*x['x1'] + w[1]*x['x2']))))) \n",
    "\n",
    "w = GD(x, y, w0, df1, df2, 0, k)\n",
    "W = GD(x, y, w0, dF1, dF2, 0, k)\n",
    "\n",
    "print('FUCK UUUUUU' ,w, W)"
   ],
   "outputs": [
    {
     "output_type": "stream",
     "name": "stdout",
     "text": [
      "[0.00348228 0.00314794] 3\n",
      "[0.28502418 0.09456427] 1479\n",
      "FUCK UUUUUU None None\n"
     ]
    }
   ],
   "metadata": {}
  },
  {
   "cell_type": "code",
   "execution_count": 91,
   "source": [
    "w = np.array([0.00348228, 0.00314794])\n",
    "W = np.array([0.28502418, 0.09456427])\n",
    "\n",
    "# 5. Какое значение принимает AUC-ROC на обучении без регуляризации и при ее использовании? \n",
    "# Эти величины будут ответом на задание. \n",
    "# В качестве ответа приведите два числа через пробел. \n",
    "# Обратите внимание, что на вход функции roc_auc_score нужно подавать оценки вероятностей, подсчитанные обученным алгоритмом. \n",
    "# Для этого воспользуйтесь сигмоидной функцией: a(x) = 1/(1 + exp(−w1x1 − w2x2)).\n",
    "\n",
    "from sklearn.metrics import roc_auc_score\n",
    "\n",
    "def A(x, w):\n",
    "    return 1/(1+np.exp(-w[0]*x['x1'] - w[1]*x['x2']))\n",
    "\n",
    "a_without = A(x, W)\n",
    "a = A(x, w)\n",
    "\n",
    "print('check check ', roc_auc_score(y, y))\n",
    "print('without regularization', roc_auc_score(y, a_without))\n",
    "print('regularization', roc_auc_score(y, a))"
   ],
   "outputs": [
    {
     "output_type": "stream",
     "name": "stdout",
     "text": [
      "check check  1.0\n",
      "without regularization 0.927142857142857\n",
      "regularization 0.9362857142857142\n"
     ]
    }
   ],
   "metadata": {}
  },
  {
   "cell_type": "code",
   "execution_count": 107,
   "source": [
    "# 6. Попробуйте поменять длину шага. \n",
    "# Будет ли сходиться алгоритм, если делать более длинные шаги? \n",
    "# Как меняется число итераций при уменьшении длины шага?\n",
    "\n",
    "print('increase')\n",
    "I = np.arange(1.0, 1.81, 0.1)\n",
    "for i in I:\n",
    "    ww = GD(x, y, w0, df1, df2, 0, 0.1*i)\n",
    "\n",
    "print('decrease')\n",
    "for i in range(1, 6):\n",
    "    ww = GD(x, y, w0, df1, df2, 0, 10**(-i))"
   ],
   "outputs": [
    {
     "output_type": "stream",
     "name": "stdout",
     "text": [
      "increase\n",
      "[0.00348228 0.00314794] 3\n",
      "[0.00382089 0.00345236] 5\n",
      "[0.00415679 0.00375391] 6\n",
      "[0.00449179 0.00405444] 8\n",
      "[0.00482442 0.00435244] 10\n",
      "[0.0051564  0.00464968] 14\n",
      "[0.00549086 0.00494959] 19\n",
      "[0.0058193  0.00524312] 31\n",
      "[0.00614056 0.00552872] 66\n",
      "decrease\n",
      "[0.00348228 0.00314794] 3\n",
      "[0.00029065 0.00026396] 16\n",
      "[3.57312664e-07 3.24599713e-07] 1\n",
      "[3.57312664e-09 3.24599713e-09] 1\n",
      "[3.57312664e-11 3.24599713e-11] 1\n"
     ]
    }
   ],
   "metadata": {}
  },
  {
   "cell_type": "code",
   "execution_count": 113,
   "source": [
    "# 7. Попробуйте менять начальное приближение. \n",
    "# Влияет ли оно на что-нибудь?\n",
    "\n",
    "for i in range(5):\n",
    "    wi = np.random.rand(2)\n",
    "    print(wi)\n",
    "    ww = GD(x, y, wi, df1, df2, 0, k)\n",
    "    print('\\n')"
   ],
   "outputs": [
    {
     "output_type": "stream",
     "name": "stdout",
     "text": [
      "[0.89373832 0.43693593]\n",
      "[0.00348234 0.00314801] 4\n",
      "\n",
      "\n",
      "[0.03861464 0.93171588]\n",
      "[0.00348233 0.00314799] 4\n",
      "\n",
      "\n",
      "[0.52731215 0.01369563]\n",
      "[0.00348229 0.00314796] 4\n",
      "\n",
      "\n",
      "[0.37465838 0.10890629]\n",
      "[0.00348229 0.00314795] 4\n",
      "\n",
      "\n",
      "[0.81092693 0.18818305]\n",
      "[0.00348233 0.00314799] 4\n",
      "\n",
      "\n"
     ]
    }
   ],
   "metadata": {}
  },
  {
   "cell_type": "code",
   "execution_count": 114,
   "source": [
    "print(np.pi)"
   ],
   "outputs": [
    {
     "output_type": "stream",
     "name": "stdout",
     "text": [
      "3.141592653589793\n"
     ]
    }
   ],
   "metadata": {}
  },
  {
   "cell_type": "code",
   "execution_count": null,
   "source": [],
   "outputs": [],
   "metadata": {}
  }
 ],
 "metadata": {
  "orig_nbformat": 4,
  "language_info": {
   "name": "python",
   "version": "3.8.8",
   "mimetype": "text/x-python",
   "codemirror_mode": {
    "name": "ipython",
    "version": 3
   },
   "pygments_lexer": "ipython3",
   "nbconvert_exporter": "python",
   "file_extension": ".py"
  },
  "kernelspec": {
   "name": "python3",
   "display_name": "Python 3.8.8 64-bit ('base': conda)"
  },
  "interpreter": {
   "hash": "d040b272fbf032b55586873b2ca8d3a5c5e5550394b053ef8ce70fe1327b555a"
  }
 },
 "nbformat": 4,
 "nbformat_minor": 2
}